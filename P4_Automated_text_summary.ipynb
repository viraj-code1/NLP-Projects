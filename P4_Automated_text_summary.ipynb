{
  "nbformat": 4,
  "nbformat_minor": 0,
  "metadata": {
    "colab": {
      "name": "P4 Automated text summary.ipynb",
      "provenance": [],
      "collapsed_sections": [],
      "authorship_tag": "ABX9TyPNoloqooCVMzyuiNsuvGpO",
      "include_colab_link": true
    },
    "kernelspec": {
      "name": "python3",
      "display_name": "Python 3"
    },
    "language_info": {
      "name": "python"
    }
  },
  "cells": [
    {
      "cell_type": "markdown",
      "metadata": {
        "id": "view-in-github",
        "colab_type": "text"
      },
      "source": [
        "<a href=\"https://colab.research.google.com/github/viraj-code1/NLP-Projects/blob/main/P4_Automated_text_summary.ipynb\" target=\"_parent\"><img src=\"https://colab.research.google.com/assets/colab-badge.svg\" alt=\"Open In Colab\"/></a>"
      ]
    },
    {
      "cell_type": "markdown",
      "metadata": {
        "id": "cbKyrx2MW1Id"
      },
      "source": [
        "# Automated text summary"
      ]
    },
    {
      "cell_type": "code",
      "metadata": {
        "id": "PusivHNJWocM"
      },
      "source": [
        "text =\"\"\"The Constitution of India begins with a Preamble which contains the basic ideals and principles of the Constitution. It lays down the objectives of the Constitution.The Longest Constitution in the world The Indian Constitution is the lengthiest Constitution of the world. \n",
        "It had 395 articles in 22 parts and 8 schedules at the time of commencement. Now it has 448 articles in 25 parts and 12 schedules. There are 104 amendments (took place on 25th January 2020 to extend the reservation of seats for SCs and STs in the Lok Sabha and states assemblies) that have been made in the Indian Constitution so far.\n",
        "How Rigid and Flexible is the Indian Constitution?One of the unique features of our Constitution is that it is not as rigid as the American Constitution or as flexible as the British Constitution. It means it is partly rigid and partly flexible. Owing to this, it can easily change and grow with the change of times.\n",
        "The Preamble The Preamble has been added later to the Constitution of India. The original Constitution does not have preamble. The preamble states that India is a sovereign, socialist, secular and democratic republic. The objectives stated by the Preamble are to secure justice, liberty, equality to all citizens and promote fraternity to maintain unity and integrity of the nation.\n",
        "Federal System with Unitary Features The powers of the government are divided between the central government and the state governments. The Constitution divides the powers of three state organs, i.e., executive, judiciary and legislature. Hence, the Indian Constitution supports a federal system. \n",
        "It includes many unitary features such as a strong central power, emergency provisions, appointment of Governors by the President, etc. Fundamental rights and fundamental duties The Indian Constitution provides an elaborate list of Fundamental Rights to the citizens of India. The Constitution also provides a list of 11 duties of the citizens, known as the Fundamental Duties. \n",
        "Some of these duties include respect of the national flag and national anthem, integrity and unity of the country and safeguard of public property.\n",
        "Also Read: Difference between Fundamental Rights and Fundamental Duties Republic India is a republic which means that a dictator or monarch does not rule the country. The government is of the people, by the people and for the people. Citizens nominate and elect its head after every five years.\"\"\""
      ],
      "execution_count": null,
      "outputs": []
    },
    {
      "cell_type": "code",
      "metadata": {
        "colab": {
          "base_uri": "https://localhost:8080/"
        },
        "id": "sQdnTBuOZQ_z",
        "outputId": "01763f9a-51a6-462a-e276-4c7d762f07ca"
      },
      "source": [
        "len(text)"
      ],
      "execution_count": null,
      "outputs": [
        {
          "output_type": "execute_result",
          "data": {
            "text/plain": [
              "2427"
            ]
          },
          "metadata": {
            "tags": []
          },
          "execution_count": 24
        }
      ]
    },
    {
      "cell_type": "markdown",
      "metadata": {
        "id": "X54rdWORYGDb"
      },
      "source": [
        "## Importing lib and *dataset*"
      ]
    },
    {
      "cell_type": "code",
      "metadata": {
        "id": "87Z6uadKYFLS"
      },
      "source": [
        "import spacy\n",
        "from spacy.lang.en.stop_words import STOP_WORDS\n",
        "from string import punctuation\n"
      ],
      "execution_count": null,
      "outputs": []
    },
    {
      "cell_type": "code",
      "metadata": {
        "id": "ohzROhPkYFOD"
      },
      "source": [
        "nlp = spacy.load('en_core_web_sm')"
      ],
      "execution_count": null,
      "outputs": []
    },
    {
      "cell_type": "code",
      "metadata": {
        "colab": {
          "base_uri": "https://localhost:8080/"
        },
        "id": "bbZB0tPkYFQl",
        "outputId": "1f4f4097-d8c2-4665-c5e6-3910763878a1"
      },
      "source": [
        "doc = nlp(text)\n",
        "doc"
      ],
      "execution_count": null,
      "outputs": [
        {
          "output_type": "execute_result",
          "data": {
            "text/plain": [
              "The Constitution of India begins with a Preamble which contains the basic ideals and principles of the Constitution. It lays down the objectives of the Constitution.The Longest Constitution in the world The Indian Constitution is the lengthiest Constitution of the world. \n",
              "It had 395 articles in 22 parts and 8 schedules at the time of commencement. Now it has 448 articles in 25 parts and 12 schedules. There are 104 amendments (took place on 25th January 2020 to extend the reservation of seats for SCs and STs in the Lok Sabha and states assemblies) that have been made in the Indian Constitution so far.\n",
              "How Rigid and Flexible is the Indian Constitution?One of the unique features of our Constitution is that it is not as rigid as the American Constitution or as flexible as the British Constitution. It means it is partly rigid and partly flexible. Owing to this, it can easily change and grow with the change of times.\n",
              "The Preamble The Preamble has been added later to the Constitution of India. The original Constitution does not have preamble. The preamble states that India is a sovereign, socialist, secular and democratic republic. The objectives stated by the Preamble are to secure justice, liberty, equality to all citizens and promote fraternity to maintain unity and integrity of the nation.\n",
              "Federal System with Unitary Features The powers of the government are divided between the central government and the state governments. The Constitution divides the powers of three state organs, i.e., executive, judiciary and legislature. Hence, the Indian Constitution supports a federal system. \n",
              "It includes many unitary features such as a strong central power, emergency provisions, appointment of Governors by the President, etc. Fundamental rights and fundamental duties The Indian Constitution provides an elaborate list of Fundamental Rights to the citizens of India. The Constitution also provides a list of 11 duties of the citizens, known as the Fundamental Duties. \n",
              "Some of these duties include respect of the national flag and national anthem, integrity and unity of the country and safeguard of public property.\n",
              "Also Read: Difference between Fundamental Rights and Fundamental Duties Republic India is a republic which means that a dictator or monarch does not rule the country. The government is of the people, by the people and for the people. Citizens nominate and elect its head after every five years."
            ]
          },
          "metadata": {
            "tags": []
          },
          "execution_count": 27
        }
      ]
    },
    {
      "cell_type": "code",
      "metadata": {
        "id": "nPL4QcUTZzMY"
      },
      "source": [
        "tokens =[token.text for token in doc]\n",
        "tokens\n"
      ],
      "execution_count": null,
      "outputs": []
    },
    {
      "cell_type": "code",
      "metadata": {
        "id": "W1yDXsGCZzPI"
      },
      "source": [
        "punctuation = punctuation +'\\n'"
      ],
      "execution_count": null,
      "outputs": []
    },
    {
      "cell_type": "markdown",
      "metadata": {
        "id": "fimByrU0aQ2y"
      },
      "source": [
        "## Text cleaning"
      ]
    },
    {
      "cell_type": "code",
      "metadata": {
        "id": "Ie2hvj5qZzRh"
      },
      "source": [
        "#\n",
        "word_freq ={}\n",
        "stopwords =list(STOP_WORDS)\n",
        "\n",
        "for word in doc:\n",
        "  if word.text.lower() not in stopwords:\n",
        "    if word.text.lower() not in punctuation:\n",
        "      if word.text not in word_freq.keys():\n",
        "        word_freq[word.text]=1;\n",
        "      else:\n",
        "        word_freq[word.text]+=1"
      ],
      "execution_count": null,
      "outputs": []
    },
    {
      "cell_type": "code",
      "metadata": {
        "colab": {
          "base_uri": "https://localhost:8080/"
        },
        "id": "_6bQCfoXZzUB",
        "outputId": "638ceec7-d3e8-4e10-8416-03f745d08983"
      },
      "source": [
        "print(word_freq)"
      ],
      "execution_count": null,
      "outputs": [
        {
          "output_type": "stream",
          "text": [
            "{'Constitution': 16, 'India': 5, 'begins': 1, 'Preamble': 4, 'contains': 1, 'basic': 1, 'ideals': 1, 'principles': 1, 'lays': 1, 'objectives': 2, 'Longest': 1, 'world': 2, 'Indian': 5, 'lengthiest': 1, '395': 1, 'articles': 2, '22': 1, 'parts': 2, '8': 1, 'schedules': 2, 'time': 1, 'commencement': 1, '448': 1, '25': 1, '12': 1, '104': 1, 'amendments': 1, 'took': 1, 'place': 1, '25th': 1, 'January': 1, '2020': 1, 'extend': 1, 'reservation': 1, 'seats': 1, 'SCs': 1, 'STs': 1, 'Lok': 1, 'Sabha': 1, 'states': 2, 'assemblies': 1, 'far': 1, 'Rigid': 1, 'Flexible': 1, 'Constitution?One': 1, 'unique': 1, 'features': 2, 'rigid': 2, 'American': 1, 'flexible': 2, 'British': 1, 'means': 2, 'partly': 2, 'Owing': 1, 'easily': 1, 'change': 2, 'grow': 1, 'times': 1, 'added': 1, 'later': 1, 'original': 1, 'preamble': 2, 'sovereign': 1, 'socialist': 1, 'secular': 1, 'democratic': 1, 'republic': 2, 'stated': 1, 'secure': 1, 'justice': 1, 'liberty': 1, 'equality': 1, 'citizens': 3, 'promote': 1, 'fraternity': 1, 'maintain': 1, 'unity': 2, 'integrity': 2, 'nation': 1, 'Federal': 1, 'System': 1, 'Unitary': 1, 'Features': 1, 'powers': 2, 'government': 3, 'divided': 1, 'central': 2, 'state': 2, 'governments': 1, 'divides': 1, 'organs': 1, 'i.e.': 1, 'executive': 1, 'judiciary': 1, 'legislature': 1, 'supports': 1, 'federal': 1, 'system': 1, 'includes': 1, 'unitary': 1, 'strong': 1, 'power': 1, 'emergency': 1, 'provisions': 1, 'appointment': 1, 'Governors': 1, 'President': 1, 'etc': 1, 'Fundamental': 5, 'rights': 1, 'fundamental': 1, 'duties': 3, 'provides': 2, 'elaborate': 1, 'list': 2, 'Rights': 2, '11': 1, 'known': 1, 'Duties': 2, 'include': 1, 'respect': 1, 'national': 2, 'flag': 1, 'anthem': 1, 'country': 2, 'safeguard': 1, 'public': 1, 'property': 1, 'Read': 1, 'Difference': 1, 'Republic': 1, 'dictator': 1, 'monarch': 1, 'rule': 1, 'people': 3, 'Citizens': 1, 'nominate': 1, 'elect': 1, 'head': 1, 'years': 1}\n"
          ],
          "name": "stdout"
        }
      ]
    },
    {
      "cell_type": "code",
      "metadata": {
        "id": "ykU8joTSc_or"
      },
      "source": [
        "max_freq =max(word_freq.values())"
      ],
      "execution_count": null,
      "outputs": []
    },
    {
      "cell_type": "code",
      "metadata": {
        "id": "MhXzFGohc_d0"
      },
      "source": [
        "for word in word_freq:\n",
        "  word_freq[word]/= max_freq"
      ],
      "execution_count": null,
      "outputs": []
    },
    {
      "cell_type": "markdown",
      "metadata": {
        "id": "eSfeeSH2daIR"
      },
      "source": [
        "## Sentence Tokenization"
      ]
    },
    {
      "cell_type": "code",
      "metadata": {
        "colab": {
          "base_uri": "https://localhost:8080/"
        },
        "id": "qC4cmUFfdS1T",
        "outputId": "190cd955-b597-4bba-cdb7-d752f8914fda"
      },
      "source": [
        "sent_tokens =[sent for sent in doc.sents]\n",
        "print(sent_tokens)"
      ],
      "execution_count": null,
      "outputs": [
        {
          "output_type": "stream",
          "text": [
            "[The Constitution of India begins with a Preamble which contains the basic ideals and principles of the Constitution., It lays down the objectives of the Constitution., The Longest Constitution in the world, The Indian Constitution is the lengthiest Constitution of the world. \n",
            ", It had 395 articles in 22 parts and 8 schedules at the time of commencement., Now it has 448 articles in 25 parts and 12 schedules., There are 104 amendments (took place on 25th January 2020 to extend the reservation of seats for SCs and STs in the Lok Sabha and states assemblies) that have been made in the Indian Constitution so far.\n",
            ", How Rigid and Flexible is the Indian Constitution?One of the unique features of our Constitution is that it is not as rigid as the American Constitution or as flexible as the British Constitution., It means it is partly rigid and partly flexible., Owing to this, it can easily change and grow with the change of times.\n",
            ", The Preamble, The Preamble has been added later to the Constitution of India., The original Constitution does not have preamble., The preamble states that India is a sovereign, socialist, secular and democratic republic., The objectives stated by the Preamble are to secure justice, liberty, equality to all citizens and promote fraternity to maintain unity and integrity of the nation.\n",
            ", Federal System with Unitary Features, The powers of the government are divided between the central government and the state governments., The Constitution divides the powers of three state organs, i.e., executive, judiciary and legislature., Hence, the Indian Constitution supports a federal system. \n",
            ", It includes many unitary features such as a strong central power, emergency provisions, appointment of Governors by the President, etc., Fundamental rights and fundamental duties, The Indian Constitution provides an elaborate list of Fundamental Rights to the citizens of India., The Constitution also provides a list of 11 duties of the citizens, known as the Fundamental Duties. \n",
            ", Some of these duties include respect of the national flag and national anthem, integrity and unity of the country and safeguard of public property.\n",
            ", Also Read:, Difference between Fundamental Rights and Fundamental Duties Republic India is a republic which means that a dictator or monarch does not rule the country., The government is of the people, by the people and for the people., Citizens nominate and elect its head after every five years.]\n"
          ],
          "name": "stdout"
        }
      ]
    },
    {
      "cell_type": "code",
      "metadata": {
        "id": "w7TSPUm1dSye"
      },
      "source": [
        "sent_score ={}\n"
      ],
      "execution_count": null,
      "outputs": []
    },
    {
      "cell_type": "code",
      "metadata": {
        "id": "8LwH7WLldSvj"
      },
      "source": [
        "for sent in sent_tokens:\n",
        "  for word in sent:\n",
        "    if word.text.lower() in word_freq.keys():\n",
        "      if sent not in sent_score.keys():\n",
        "        sent_score[sent]= word_freq[word.text.lower()]\n",
        "      else :\n",
        "        sent_score[sent]+= word_freq[word.text.lower()]\n",
        "\n"
      ],
      "execution_count": null,
      "outputs": []
    },
    {
      "cell_type": "code",
      "metadata": {
        "colab": {
          "base_uri": "https://localhost:8080/"
        },
        "id": "YucBu3sWk9Dc",
        "outputId": "0187c14f-0f4c-4821-881c-e1c81e801056"
      },
      "source": [
        "print(sent_score)"
      ],
      "execution_count": null,
      "outputs": [
        {
          "output_type": "stream",
          "text": [
            "{The Constitution of India begins with a Preamble which contains the basic ideals and principles of the Constitution.: 0.4375, It lays down the objectives of the Constitution.: 0.1875, The Longest Constitution in the world: 0.125, The Indian Constitution is the lengthiest Constitution of the world. \n",
            ": 0.1875, It had 395 articles in 22 parts and 8 schedules at the time of commencement.: 0.6875, Now it has 448 articles in 25 parts and 12 schedules.: 0.5625, There are 104 amendments (took place on 25th January 2020 to extend the reservation of seats for SCs and STs in the Lok Sabha and states assemblies) that have been made in the Indian Constitution so far.\n",
            ": 0.8125, How Rigid and Flexible is the Indian Constitution?One of the unique features of our Constitution is that it is not as rigid as the American Constitution or as flexible as the British Constitution.: 0.6875, It means it is partly rigid and partly flexible.: 0.625, Owing to this, it can easily change and grow with the change of times.\n",
            ": 0.4375, The Preamble: 0.125, The Preamble has been added later to the Constitution of India.: 0.25, The original Constitution does not have preamble.: 0.1875, The preamble states that India is a sovereign, socialist, secular and democratic republic.: 0.625, The objectives stated by the Preamble are to secure justice, liberty, equality to all citizens and promote fraternity to maintain unity and integrity of the nation.\n",
            ": 1.25, Federal System with Unitary Features: 0.3125, The powers of the government are divided between the central government and the state governments.: 0.875, The Constitution divides the powers of three state organs, i.e., executive, judiciary and legislature.: 0.625, Hence, the Indian Constitution supports a federal system. \n",
            ": 0.1875, It includes many unitary features such as a strong central power, emergency provisions, appointment of Governors by the President, etc.: 0.75, Fundamental rights and fundamental duties: 0.375, The Indian Constitution provides an elaborate list of Fundamental Rights to the citizens of India.: 0.625, The Constitution also provides a list of 11 duties of the citizens, known as the Fundamental Duties. \n",
            ": 1.0, Some of these duties include respect of the national flag and national anthem, integrity and unity of the country and safeguard of public property.\n",
            ": 1.25, Difference between Fundamental Rights and Fundamental Duties Republic India is a republic which means that a dictator or monarch does not rule the country.: 1.0625, The government is of the people, by the people and for the people.: 0.75, Citizens nominate and elect its head after every five years.: 0.4375}\n"
          ],
          "name": "stdout"
        }
      ]
    },
    {
      "cell_type": "markdown",
      "metadata": {
        "id": "vWuEThwrtuzF"
      },
      "source": [
        "### Select 30% of scoring sentence"
      ]
    },
    {
      "cell_type": "code",
      "metadata": {
        "id": "OfUQppWKk9Gb"
      },
      "source": [
        "from heapq import nlargest"
      ],
      "execution_count": null,
      "outputs": []
    },
    {
      "cell_type": "code",
      "metadata": {
        "colab": {
          "base_uri": "https://localhost:8080/"
        },
        "id": "rx3fKd82t7Ot",
        "outputId": "133b7aa0-ed88-474c-a45d-9be6007cd836"
      },
      "source": [
        "len(sent_score)*0.3"
      ],
      "execution_count": null,
      "outputs": [
        {
          "output_type": "execute_result",
          "data": {
            "text/plain": [
              "8.1"
            ]
          },
          "metadata": {
            "tags": []
          },
          "execution_count": 44
        }
      ]
    },
    {
      "cell_type": "code",
      "metadata": {
        "id": "-yvYmpWSt7Rt"
      },
      "source": [
        "summary =nlargest(n=8, iterable=sent_score, key = sent_score.get)"
      ],
      "execution_count": null,
      "outputs": []
    },
    {
      "cell_type": "code",
      "metadata": {
        "colab": {
          "base_uri": "https://localhost:8080/"
        },
        "id": "bn985B-Yt7Uj",
        "outputId": "d4a27989-51a3-4df7-e2ee-950f0817447b"
      },
      "source": [
        "print(summary)"
      ],
      "execution_count": null,
      "outputs": [
        {
          "output_type": "stream",
          "text": [
            "[The objectives stated by the Preamble are to secure justice, liberty, equality to all citizens and promote fraternity to maintain unity and integrity of the nation.\n",
            ", Some of these duties include respect of the national flag and national anthem, integrity and unity of the country and safeguard of public property.\n",
            ", Difference between Fundamental Rights and Fundamental Duties Republic India is a republic which means that a dictator or monarch does not rule the country., The Constitution also provides a list of 11 duties of the citizens, known as the Fundamental Duties. \n",
            ", The powers of the government are divided between the central government and the state governments., There are 104 amendments (took place on 25th January 2020 to extend the reservation of seats for SCs and STs in the Lok Sabha and states assemblies) that have been made in the Indian Constitution so far.\n",
            ", It includes many unitary features such as a strong central power, emergency provisions, appointment of Governors by the President, etc., The government is of the people, by the people and for the people.]\n"
          ],
          "name": "stdout"
        }
      ]
    },
    {
      "cell_type": "code",
      "metadata": {
        "id": "1qlum_xvt7W_"
      },
      "source": [
        " final_summary= [word.text for word in summary]"
      ],
      "execution_count": null,
      "outputs": []
    },
    {
      "cell_type": "code",
      "metadata": {
        "colab": {
          "base_uri": "https://localhost:8080/"
        },
        "id": "HKVVZxREk9JY",
        "outputId": "ad56d544-2020-419b-daf7-221fecf23947"
      },
      "source": [
        "print(final_summary)"
      ],
      "execution_count": null,
      "outputs": [
        {
          "output_type": "stream",
          "text": [
            "['The objectives stated by the Preamble are to secure justice, liberty, equality to all citizens and promote fraternity to maintain unity and integrity of the nation.\\n', 'Some of these duties include respect of the national flag and national anthem, integrity and unity of the country and safeguard of public property.\\n', 'Difference between Fundamental Rights and Fundamental Duties Republic India is a republic which means that a dictator or monarch does not rule the country.', 'The Constitution also provides a list of 11 duties of the citizens, known as the Fundamental Duties. \\n', 'The powers of the government are divided between the central government and the state governments.', 'There are 104 amendments (took place on 25th January 2020 to extend the reservation of seats for SCs and STs in the Lok Sabha and states assemblies) that have been made in the Indian Constitution so far.\\n', 'It includes many unitary features such as a strong central power, emergency provisions, appointment of Governors by the President, etc.', 'The government is of the people, by the people and for the people.']\n"
          ],
          "name": "stdout"
        }
      ]
    },
    {
      "cell_type": "code",
      "metadata": {
        "colab": {
          "base_uri": "https://localhost:8080/"
        },
        "id": "SqgWU3UGuaRH",
        "outputId": "7de03235-2878-4a30-d715-f72da80675c8"
      },
      "source": [
        "summary =\" \".join(final_summary)\n",
        "print(summary)\n",
        "print(len(summary))"
      ],
      "execution_count": null,
      "outputs": [
        {
          "output_type": "stream",
          "text": [
            "The objectives stated by the Preamble are to secure justice, liberty, equality to all citizens and promote fraternity to maintain unity and integrity of the nation.\n",
            " Some of these duties include respect of the national flag and national anthem, integrity and unity of the country and safeguard of public property.\n",
            " Difference between Fundamental Rights and Fundamental Duties Republic India is a republic which means that a dictator or monarch does not rule the country. The Constitution also provides a list of 11 duties of the citizens, known as the Fundamental Duties. \n",
            " The powers of the government are divided between the central government and the state governments. There are 104 amendments (took place on 25th January 2020 to extend the reservation of seats for SCs and STs in the Lok Sabha and states assemblies) that have been made in the Indian Constitution so far.\n",
            " It includes many unitary features such as a strong central power, emergency provisions, appointment of Governors by the President, etc. The government is of the people, by the people and for the people.\n",
            "1080\n"
          ],
          "name": "stdout"
        }
      ]
    },
    {
      "cell_type": "markdown",
      "metadata": {
        "id": "vep4IrClam6O"
      },
      "source": [
        "## "
      ]
    }
  ]
}