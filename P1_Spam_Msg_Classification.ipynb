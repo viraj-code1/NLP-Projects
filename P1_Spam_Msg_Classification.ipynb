{
  "nbformat": 4,
  "nbformat_minor": 0,
  "metadata": {
    "colab": {
      "name": "P1 Spam Msg Classification.ipynb",
      "provenance": [],
      "collapsed_sections": [],
      "authorship_tag": "ABX9TyMUGQg8vjre9ZW02VjbiCFQ",
      "include_colab_link": true
    },
    "kernelspec": {
      "name": "python3",
      "display_name": "Python 3"
    },
    "language_info": {
      "name": "python"
    }
  },
  "cells": [
    {
      "cell_type": "markdown",
      "metadata": {
        "id": "view-in-github",
        "colab_type": "text"
      },
      "source": [
        "<a href=\"https://colab.research.google.com/github/viraj-code1/NLP-Projects/blob/main/P1_Spam_Msg_Classification.ipynb\" target=\"_parent\"><img src=\"https://colab.research.google.com/assets/colab-badge.svg\" alt=\"Open In Colab\"/></a>"
      ]
    },
    {
      "cell_type": "markdown",
      "metadata": {
        "id": "Xat_9mVn7da4"
      },
      "source": [
        "# Spam Message Classification\n",
        "1.   Random Forest\n",
        "2.   SVM\n",
        "\n"
      ]
    },
    {
      "cell_type": "markdown",
      "metadata": {
        "id": "UwAKbKr37ohH"
      },
      "source": [
        "## 1) Data Preprocessing"
      ]
    },
    {
      "cell_type": "code",
      "metadata": {
        "id": "ocogOqpx73b6"
      },
      "source": [
        "import numpy as np\n",
        "import pandas as pd\n",
        "import matplotlib.pyplot as plt"
      ],
      "execution_count": 1,
      "outputs": []
    },
    {
      "cell_type": "code",
      "metadata": {
        "id": "QaZknv4K8uOv"
      },
      "source": [
        "df=pd.read_csv('spam.tsv', sep='\\t')"
      ],
      "execution_count": 3,
      "outputs": []
    },
    {
      "cell_type": "code",
      "metadata": {
        "colab": {
          "base_uri": "https://localhost:8080/",
          "height": 202
        },
        "id": "8T37ICSQ9DJl",
        "outputId": "729a3447-a53f-4d18-db38-97ce19386d15"
      },
      "source": [
        "df.head()\n",
        "df.tail()"
      ],
      "execution_count": 37,
      "outputs": [
        {
          "output_type": "execute_result",
          "data": {
            "text/html": [
              "<div>\n",
              "<style scoped>\n",
              "    .dataframe tbody tr th:only-of-type {\n",
              "        vertical-align: middle;\n",
              "    }\n",
              "\n",
              "    .dataframe tbody tr th {\n",
              "        vertical-align: top;\n",
              "    }\n",
              "\n",
              "    .dataframe thead th {\n",
              "        text-align: right;\n",
              "    }\n",
              "</style>\n",
              "<table border=\"1\" class=\"dataframe\">\n",
              "  <thead>\n",
              "    <tr style=\"text-align: right;\">\n",
              "      <th></th>\n",
              "      <th>label</th>\n",
              "      <th>message</th>\n",
              "      <th>length</th>\n",
              "      <th>punct</th>\n",
              "    </tr>\n",
              "  </thead>\n",
              "  <tbody>\n",
              "    <tr>\n",
              "      <th>5567</th>\n",
              "      <td>spam</td>\n",
              "      <td>This is the 2nd time we have tried 2 contact u...</td>\n",
              "      <td>160</td>\n",
              "      <td>8</td>\n",
              "    </tr>\n",
              "    <tr>\n",
              "      <th>5568</th>\n",
              "      <td>ham</td>\n",
              "      <td>Will ü b going to esplanade fr home?</td>\n",
              "      <td>36</td>\n",
              "      <td>1</td>\n",
              "    </tr>\n",
              "    <tr>\n",
              "      <th>5569</th>\n",
              "      <td>ham</td>\n",
              "      <td>Pity, * was in mood for that. So...any other s...</td>\n",
              "      <td>57</td>\n",
              "      <td>7</td>\n",
              "    </tr>\n",
              "    <tr>\n",
              "      <th>5570</th>\n",
              "      <td>ham</td>\n",
              "      <td>The guy did some bitching but I acted like i'd...</td>\n",
              "      <td>125</td>\n",
              "      <td>1</td>\n",
              "    </tr>\n",
              "    <tr>\n",
              "      <th>5571</th>\n",
              "      <td>ham</td>\n",
              "      <td>Rofl. Its true to its name</td>\n",
              "      <td>26</td>\n",
              "      <td>1</td>\n",
              "    </tr>\n",
              "  </tbody>\n",
              "</table>\n",
              "</div>"
            ],
            "text/plain": [
              "     label                                            message  length  punct\n",
              "5567  spam  This is the 2nd time we have tried 2 contact u...     160      8\n",
              "5568   ham               Will ü b going to esplanade fr home?      36      1\n",
              "5569   ham  Pity, * was in mood for that. So...any other s...      57      7\n",
              "5570   ham  The guy did some bitching but I acted like i'd...     125      1\n",
              "5571   ham                         Rofl. Its true to its name      26      1"
            ]
          },
          "metadata": {
            "tags": []
          },
          "execution_count": 37
        }
      ]
    },
    {
      "cell_type": "code",
      "metadata": {
        "id": "Lloh4wDX9Pz7"
      },
      "source": [
        "df.isna().sum()\n",
        "#check for missing values"
      ],
      "execution_count": null,
      "outputs": []
    },
    {
      "cell_type": "code",
      "metadata": {
        "id": "6HJATEUo9mlu"
      },
      "source": [
        "df.describe()\n",
        "#descriptive statistics for numeric column"
      ],
      "execution_count": null,
      "outputs": []
    },
    {
      "cell_type": "code",
      "metadata": {
        "id": "uKGU_Pxc93km"
      },
      "source": [
        "df['label'].value_counts() / len(df)\n",
        "#getting freq / % of values in \"label\" column"
      ],
      "execution_count": null,
      "outputs": []
    },
    {
      "cell_type": "code",
      "metadata": {
        "id": "bOx9hqxh-VM1"
      },
      "source": [
        "ham =df[df['label']== 'ham']\n",
        "spam =df[df['label']== 'spam']"
      ],
      "execution_count": 15,
      "outputs": []
    },
    {
      "cell_type": "code",
      "metadata": {
        "colab": {
          "base_uri": "https://localhost:8080/"
        },
        "id": "L9ZxdEsz_v1v",
        "outputId": "0cbd4a48-ae1a-4e91-9c15-808937edcd5a"
      },
      "source": [
        "#getting no. of data entries\n",
        "ham.shape, spam.shape"
      ],
      "execution_count": 16,
      "outputs": [
        {
          "output_type": "execute_result",
          "data": {
            "text/plain": [
              "((4825, 4), (747, 4))"
            ]
          },
          "metadata": {
            "tags": []
          },
          "execution_count": 16
        }
      ]
    },
    {
      "cell_type": "code",
      "metadata": {
        "colab": {
          "base_uri": "https://localhost:8080/"
        },
        "id": "IHCUL8fQ_3Tm",
        "outputId": "ece05445-2a31-4106-ea96-952cd59af417"
      },
      "source": [
        "ham =ham.sample(spam.shape[0])\n",
        "len(ham)\n",
        "#randomly picking 747 (no.of spam msg) msg of ham "
      ],
      "execution_count": 18,
      "outputs": [
        {
          "output_type": "execute_result",
          "data": {
            "text/plain": [
              "747"
            ]
          },
          "metadata": {
            "tags": []
          },
          "execution_count": 18
        }
      ]
    },
    {
      "cell_type": "code",
      "metadata": {
        "colab": {
          "base_uri": "https://localhost:8080/"
        },
        "id": "Pcf5coTwAj4N",
        "outputId": "b99016a4-70d8-4a5c-f682-ca99b857894c"
      },
      "source": [
        "#getting a data frame with 50% spam and 50% ham\n",
        "data =ham.append(spam, ignore_index=True)\n",
        "data.shape"
      ],
      "execution_count": 20,
      "outputs": [
        {
          "output_type": "execute_result",
          "data": {
            "text/plain": [
              "(1494, 4)"
            ]
          },
          "metadata": {
            "tags": []
          },
          "execution_count": 20
        }
      ]
    },
    {
      "cell_type": "code",
      "metadata": {
        "colab": {
          "base_uri": "https://localhost:8080/",
          "height": 202
        },
        "id": "o4mnVVD9A5Gj",
        "outputId": "76bf8ed2-85eb-487e-9a97-472566bfccc9"
      },
      "source": [
        "data.head()"
      ],
      "execution_count": 21,
      "outputs": [
        {
          "output_type": "execute_result",
          "data": {
            "text/html": [
              "<div>\n",
              "<style scoped>\n",
              "    .dataframe tbody tr th:only-of-type {\n",
              "        vertical-align: middle;\n",
              "    }\n",
              "\n",
              "    .dataframe tbody tr th {\n",
              "        vertical-align: top;\n",
              "    }\n",
              "\n",
              "    .dataframe thead th {\n",
              "        text-align: right;\n",
              "    }\n",
              "</style>\n",
              "<table border=\"1\" class=\"dataframe\">\n",
              "  <thead>\n",
              "    <tr style=\"text-align: right;\">\n",
              "      <th></th>\n",
              "      <th>label</th>\n",
              "      <th>message</th>\n",
              "      <th>length</th>\n",
              "      <th>punct</th>\n",
              "    </tr>\n",
              "  </thead>\n",
              "  <tbody>\n",
              "    <tr>\n",
              "      <th>0</th>\n",
              "      <td>ham</td>\n",
              "      <td>Yes i think so. I am in office but my lap is i...</td>\n",
              "      <td>115</td>\n",
              "      <td>2</td>\n",
              "    </tr>\n",
              "    <tr>\n",
              "      <th>1</th>\n",
              "      <td>ham</td>\n",
              "      <td>Hey pple...$700 or $900 for 5 nights...Excelle...</td>\n",
              "      <td>81</td>\n",
              "      <td>11</td>\n",
              "    </tr>\n",
              "    <tr>\n",
              "      <th>2</th>\n",
              "      <td>ham</td>\n",
              "      <td>Yup i thk so until e shop closes lor.</td>\n",
              "      <td>37</td>\n",
              "      <td>1</td>\n",
              "    </tr>\n",
              "    <tr>\n",
              "      <th>3</th>\n",
              "      <td>ham</td>\n",
              "      <td>Ok cool. See ya then.</td>\n",
              "      <td>21</td>\n",
              "      <td>2</td>\n",
              "    </tr>\n",
              "    <tr>\n",
              "      <th>4</th>\n",
              "      <td>ham</td>\n",
              "      <td>Today is ACCEPT DAY..U Accept me as? Brother S...</td>\n",
              "      <td>156</td>\n",
              "      <td>3</td>\n",
              "    </tr>\n",
              "  </tbody>\n",
              "</table>\n",
              "</div>"
            ],
            "text/plain": [
              "  label                                            message  length  punct\n",
              "0   ham  Yes i think so. I am in office but my lap is i...     115      2\n",
              "1   ham  Hey pple...$700 or $900 for 5 nights...Excelle...      81     11\n",
              "2   ham              Yup i thk so until e shop closes lor.      37      1\n",
              "3   ham                              Ok cool. See ya then.      21      2\n",
              "4   ham  Today is ACCEPT DAY..U Accept me as? Brother S...     156      3"
            ]
          },
          "metadata": {
            "tags": []
          },
          "execution_count": 21
        }
      ]
    },
    {
      "cell_type": "code",
      "metadata": {
        "colab": {
          "base_uri": "https://localhost:8080/",
          "height": 264
        },
        "id": "-VcIDkBXB_W0",
        "outputId": "a5196431-f720-429a-8e5a-57c1ced6f431"
      },
      "source": [
        "plt.hist(data[data['label']=='ham']['length'], bins=100)\n",
        "plt.hist(data[data['label']=='spam']['length'],bins=100)\n",
        "plt.show()\n",
        "\n",
        "#high probability of longer msg to be spam"
      ],
      "execution_count": 29,
      "outputs": [
        {
          "output_type": "display_data",
          "data": {
            "image/png": "[encoded data removed]",
            "text/plain": [
              "<Figure size 432x288 with 1 Axes>"
            ]
          },
          "metadata": {
            "tags": [],
            "needs_background": "light"
          }
        }
      ]
    },
    {
      "cell_type": "code",
      "metadata": {
        "colab": {
          "base_uri": "https://localhost:8080/",
          "height": 267
        },
        "id": "XVo43-g1B_cO",
        "outputId": "b1c414dd-50ae-4fba-b979-70e4bceee7db"
      },
      "source": [
        "plt.hist(data[data['label']=='ham']['punct'], bins=100)\n",
        "plt.hist(data[data['label']=='spam']['punct'],bins=100)\n",
        "plt.show()\n",
        "# cannot deduce anything"
      ],
      "execution_count": 30,
      "outputs": [
        {
          "output_type": "display_data",
          "data": {
            "image/png": "[encoded data removed]",
            "text/plain": [
              "<Figure size 432x288 with 1 Axes>"
            ]
          },
          "metadata": {
            "tags": [],
            "needs_background": "light"
          }
        }
      ]
    },
    {
      "cell_type": "markdown",
      "metadata": {
        "id": "kLmExMaODtph"
      },
      "source": [
        "We now to separate data into training and testing sets\n",
        "\n",
        "\n",
        "\n",
        "30% testing and 70% training"
      ]
    },
    {
      "cell_type": "code",
      "metadata": {
        "id": "QToFFgJ6EIq8"
      },
      "source": [
        "from sklearn.model_selection import train_test_split"
      ],
      "execution_count": 31,
      "outputs": []
    },
    {
      "cell_type": "code",
      "metadata": {
        "id": "wIVlaEIHEcPp"
      },
      "source": [
        "X_train, X_test, y_train, y_test =train_test_split(data['message'], data['label'], test_size=0.3, random_state =0, shuffle =True)\n",
        "\n",
        "# X-> message, y->label , predicting y on basis of X"
      ],
      "execution_count": 49,
      "outputs": []
    },
    {
      "cell_type": "code",
      "metadata": {
        "colab": {
          "base_uri": "https://localhost:8080/"
        },
        "id": "e93RxzldEceI",
        "outputId": "24993074-60c5-4f13-8b19-1a877ebd39ef"
      },
      "source": [
        "print(X_train.shape)\n",
        "print(X_test.shape)"
      ],
      "execution_count": 50,
      "outputs": [
        {
          "output_type": "stream",
          "text": [
            "(1045,)\n",
            "(449,)\n"
          ],
          "name": "stdout"
        }
      ]
    },
    {
      "cell_type": "code",
      "metadata": {
        "id": "OgLStBG4F39j"
      },
      "source": [
        ""
      ],
      "execution_count": null,
      "outputs": []
    },
    {
      "cell_type": "code",
      "metadata": {
        "id": "98q1GCb2F3_5"
      },
      "source": [
        ""
      ],
      "execution_count": null,
      "outputs": []
    },
    {
      "cell_type": "code",
      "metadata": {
        "id": "dfloeAPJF4E-"
      },
      "source": [
        ""
      ],
      "execution_count": null,
      "outputs": []
    },
    {
      "cell_type": "markdown",
      "metadata": {
        "id": "Su7O0rU4Dh_Z"
      },
      "source": [
        "## 2) Building the Model (Random Forest)"
      ]
    },
    {
      "cell_type": "code",
      "metadata": {
        "id": "cSGnq33HG21W"
      },
      "source": [
        "from sklearn.feature_extraction.text import TfidfVectorizer\n",
        "from sklearn.ensemble import RandomForestClassifier\n",
        "\n",
        "from sklearn.pipeline import Pipeline"
      ],
      "execution_count": 51,
      "outputs": []
    },
    {
      "cell_type": "code",
      "metadata": {
        "id": "GN3XhjseG25e"
      },
      "source": [
        "classifier =Pipeline([(\"tfidf\", TfidfVectorizer()),(\"classifier\", RandomForestClassifier(n_estimators=100))])\n"
      ],
      "execution_count": 80,
      "outputs": []
    },
    {
      "cell_type": "code",
      "metadata": {
        "colab": {
          "base_uri": "https://localhost:8080/"
        },
        "id": "0D7PxMlDG28s",
        "outputId": "13e68f74-4823-4db3-fc3a-714c8ba5c9aa"
      },
      "source": [
        "classifier.fit(X_train, y_train)"
      ],
      "execution_count": 81,
      "outputs": [
        {
          "output_type": "execute_result",
          "data": {
            "text/plain": [
              "Pipeline(memory=None,\n",
              "         steps=[('tfidf',\n",
              "                 TfidfVectorizer(analyzer='word', binary=False,\n",
              "                                 decode_error='strict',\n",
              "                                 dtype=<class 'numpy.float64'>,\n",
              "                                 encoding='utf-8', input='content',\n",
              "                                 lowercase=True, max_df=1.0, max_features=None,\n",
              "                                 min_df=1, ngram_range=(1, 1), norm='l2',\n",
              "                                 preprocessor=None, smooth_idf=True,\n",
              "                                 stop_words=None, strip_accents=None,\n",
              "                                 sublinear_tf=False,\n",
              "                                 token_pattern='...\n",
              "                 RandomForestClassifier(bootstrap=True, ccp_alpha=0.0,\n",
              "                                        class_weight=None, criterion='gini',\n",
              "                                        max_depth=None, max_features='auto',\n",
              "                                        max_leaf_nodes=None, max_samples=None,\n",
              "                                        min_impurity_decrease=0.0,\n",
              "                                        min_impurity_split=None,\n",
              "                                        min_samples_leaf=1, min_samples_split=2,\n",
              "                                        min_weight_fraction_leaf=0.0,\n",
              "                                        n_estimators=100, n_jobs=None,\n",
              "                                        oob_score=False, random_state=None,\n",
              "                                        verbose=0, warm_start=False))],\n",
              "         verbose=False)"
            ]
          },
          "metadata": {
            "tags": []
          },
          "execution_count": 81
        }
      ]
    },
    {
      "cell_type": "markdown",
      "metadata": {
        "id": "-rvPehNDMOu6"
      },
      "source": [
        "## 3) Predicting Results"
      ]
    },
    {
      "cell_type": "code",
      "metadata": {
        "id": "eU1aKXpDMNrT"
      },
      "source": [
        "y_pred =classifier.predict(X_test)"
      ],
      "execution_count": 58,
      "outputs": []
    },
    {
      "cell_type": "code",
      "metadata": {
        "id": "KzGA4zGQMbbA"
      },
      "source": [
        "y_test, y_pred"
      ],
      "execution_count": null,
      "outputs": []
    },
    {
      "cell_type": "code",
      "metadata": {
        "id": "cZx5wEZvMhsv"
      },
      "source": [
        "from sklearn.metrics import classification_report, accuracy_score, confusion_matrix"
      ],
      "execution_count": 61,
      "outputs": []
    },
    {
      "cell_type": "code",
      "metadata": {
        "colab": {
          "base_uri": "https://localhost:8080/"
        },
        "id": "aIzVYinSMiM0",
        "outputId": "f835bc8f-4b89-4e28-82aa-84f81e27e6c4"
      },
      "source": [
        "accuracy_score(y_test, y_pred)"
      ],
      "execution_count": 62,
      "outputs": [
        {
          "output_type": "execute_result",
          "data": {
            "text/plain": [
              "0.955456570155902"
            ]
          },
          "metadata": {
            "tags": []
          },
          "execution_count": 62
        }
      ]
    },
    {
      "cell_type": "code",
      "metadata": {
        "colab": {
          "base_uri": "https://localhost:8080/"
        },
        "id": "c6yGk7JuM7Ri",
        "outputId": "49f9fd49-dbcb-448c-bf02-774f5e332f01"
      },
      "source": [
        "confusion_matrix(y_test, y_pred)\n",
        "\n",
        "#      ham    spam   (pred)\n",
        "# ham  226    1         \n",
        "#spam  19    203 "
      ],
      "execution_count": 66,
      "outputs": [
        {
          "output_type": "execute_result",
          "data": {
            "text/plain": [
              "array([[226,   1],\n",
              "       [ 19, 203]])"
            ]
          },
          "metadata": {
            "tags": []
          },
          "execution_count": 66
        }
      ]
    },
    {
      "cell_type": "code",
      "metadata": {
        "colab": {
          "base_uri": "https://localhost:8080/"
        },
        "id": "RHrKMVsFNuyE",
        "outputId": "ea24e4d9-3968-4675-83af-c1269405781e"
      },
      "source": [
        "print(classification_report(y_test, y_pred))"
      ],
      "execution_count": 65,
      "outputs": [
        {
          "output_type": "stream",
          "text": [
            "              precision    recall  f1-score   support\n",
            "\n",
            "         ham       0.92      1.00      0.96       227\n",
            "        spam       1.00      0.91      0.95       222\n",
            "\n",
            "    accuracy                           0.96       449\n",
            "   macro avg       0.96      0.96      0.96       449\n",
            "weighted avg       0.96      0.96      0.96       449\n",
            "\n"
          ],
          "name": "stdout"
        }
      ]
    },
    {
      "cell_type": "markdown",
      "metadata": {
        "id": "sxY9LHtIN-PW"
      },
      "source": [
        "## 4) Building Model SVM\n",
        "  Support Vector Machine"
      ]
    },
    {
      "cell_type": "code",
      "metadata": {
        "id": "-AwiNUY3OD9B"
      },
      "source": [
        "from sklearn.svm import SVC"
      ],
      "execution_count": 69,
      "outputs": []
    },
    {
      "cell_type": "code",
      "metadata": {
        "id": "lQe_8_nqOYwS"
      },
      "source": [
        "svm =Pipeline([(\"tfidf\", TfidfVectorizer()),(\"classifier\",SVC(C=100, gamma= 'auto'))])\n"
      ],
      "execution_count": 73,
      "outputs": []
    },
    {
      "cell_type": "code",
      "metadata": {
        "colab": {
          "base_uri": "https://localhost:8080/"
        },
        "id": "z_HdrbDAO2U3",
        "outputId": "ac849b33-4086-427b-8b50-9ce5b555a25a"
      },
      "source": [
        "svm.fit(X_train, y_train)"
      ],
      "execution_count": 74,
      "outputs": [
        {
          "output_type": "execute_result",
          "data": {
            "text/plain": [
              "Pipeline(memory=None,\n",
              "         steps=[('tfidf',\n",
              "                 TfidfVectorizer(analyzer='word', binary=False,\n",
              "                                 decode_error='strict',\n",
              "                                 dtype=<class 'numpy.float64'>,\n",
              "                                 encoding='utf-8', input='content',\n",
              "                                 lowercase=True, max_df=1.0, max_features=None,\n",
              "                                 min_df=1, ngram_range=(1, 1), norm='l2',\n",
              "                                 preprocessor=None, smooth_idf=True,\n",
              "                                 stop_words=None, strip_accents=None,\n",
              "                                 sublinear_tf=False,\n",
              "                                 token_pattern='(?u)\\\\b\\\\w\\\\w+\\\\b',\n",
              "                                 tokenizer=None, use_idf=True,\n",
              "                                 vocabulary=None)),\n",
              "                ('classifier',\n",
              "                 SVC(C=100, break_ties=False, cache_size=200, class_weight=None,\n",
              "                     coef0=0.0, decision_function_shape='ovr', degree=3,\n",
              "                     gamma='auto', kernel='rbf', max_iter=-1, probability=False,\n",
              "                     random_state=None, shrinking=True, tol=0.001,\n",
              "                     verbose=False))],\n",
              "         verbose=False)"
            ]
          },
          "metadata": {
            "tags": []
          },
          "execution_count": 74
        }
      ]
    },
    {
      "cell_type": "markdown",
      "metadata": {
        "id": "vR-S6ecYPFPb"
      },
      "source": [
        "# 5) Predicting Results SVM"
      ]
    },
    {
      "cell_type": "code",
      "metadata": {
        "id": "4zlz8B66O2X3"
      },
      "source": [
        "y_pred =svm.predict(X_test)"
      ],
      "execution_count": 75,
      "outputs": []
    },
    {
      "cell_type": "code",
      "metadata": {
        "colab": {
          "base_uri": "https://localhost:8080/"
        },
        "id": "SCHOcWLwO2ge",
        "outputId": "6fe8c499-f12e-4580-ffb8-8961744f6b70"
      },
      "source": [
        "accuracy_score(y_test, y_pred)"
      ],
      "execution_count": 76,
      "outputs": [
        {
          "output_type": "execute_result",
          "data": {
            "text/plain": [
              "0.955456570155902"
            ]
          },
          "metadata": {
            "tags": []
          },
          "execution_count": 76
        }
      ]
    },
    {
      "cell_type": "code",
      "metadata": {
        "colab": {
          "base_uri": "https://localhost:8080/"
        },
        "id": "Dx0vPLZ1PWJ7",
        "outputId": "2719954d-3211-4300-ce93-37af2518611b"
      },
      "source": [
        "confusion_matrix(y_test, y_pred)"
      ],
      "execution_count": 77,
      "outputs": [
        {
          "output_type": "execute_result",
          "data": {
            "text/plain": [
              "array([[223,   4],\n",
              "       [ 16, 206]])"
            ]
          },
          "metadata": {
            "tags": []
          },
          "execution_count": 77
        }
      ]
    },
    {
      "cell_type": "code",
      "metadata": {
        "colab": {
          "base_uri": "https://localhost:8080/"
        },
        "id": "uewKB4lnPWMi",
        "outputId": "6c93c424-7969-4abd-da77-67c09ddfeaad"
      },
      "source": [
        "print(classification_report(y_test, y_pred))"
      ],
      "execution_count": 78,
      "outputs": [
        {
          "output_type": "stream",
          "text": [
            "              precision    recall  f1-score   support\n",
            "\n",
            "         ham       0.93      0.98      0.96       227\n",
            "        spam       0.98      0.93      0.95       222\n",
            "\n",
            "    accuracy                           0.96       449\n",
            "   macro avg       0.96      0.96      0.96       449\n",
            "weighted avg       0.96      0.96      0.96       449\n",
            "\n"
          ],
          "name": "stdout"
        }
      ]
    },
    {
      "cell_type": "code",
      "metadata": {
        "id": "bXdI2ALQPWP6"
      },
      "source": [
        ""
      ],
      "execution_count": null,
      "outputs": []
    },
    {
      "cell_type": "markdown",
      "metadata": {
        "id": "I79hL2QCPwaE"
      },
      "source": [
        "Time pass tests"
      ]
    },
    {
      "cell_type": "code",
      "metadata": {
        "id": "dwFm9eWkP0Tg"
      },
      "source": [
        "test1 = ['Hello, your account is debited with Rs100.00']\n",
        "test2 =['Congratulations , You have won a lottery ticket worth $1 million! to claim call on 446677']"
      ],
      "execution_count": 86,
      "outputs": []
    },
    {
      "cell_type": "code",
      "metadata": {
        "colab": {
          "base_uri": "https://localhost:8080/"
        },
        "id": "yELJTYoLU5xX",
        "outputId": "80f4235e-4ccf-45e5-e32d-23ebcb438147"
      },
      "source": [
        "print(classifier.predict(test1))\n",
        "print(classifier.predict(test2))"
      ],
      "execution_count": 87,
      "outputs": [
        {
          "output_type": "stream",
          "text": [
            "['ham']\n",
            "['spam']\n"
          ],
          "name": "stdout"
        }
      ]
    }
  ]
}