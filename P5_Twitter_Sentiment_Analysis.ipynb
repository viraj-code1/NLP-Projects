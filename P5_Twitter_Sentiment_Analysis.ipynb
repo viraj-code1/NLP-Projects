{
  "nbformat": 4,
  "nbformat_minor": 0,
  "metadata": {
    "colab": {
      "name": "P5 Twitter Sentiment Analysis",
      "provenance": [],
      "collapsed_sections": [],
      "authorship_tag": "ABX9TyPFc/oebuVVtHYx4FcDN35e",
      "include_colab_link": true
    },
    "kernelspec": {
      "name": "python3",
      "display_name": "Python 3"
    },
    "language_info": {
      "name": "python"
    }
  },
  "cells": [
    {
      "cell_type": "markdown",
      "metadata": {
        "id": "view-in-github",
        "colab_type": "text"
      },
      "source": [
        "<a href=\"https://colab.research.google.com/github/viraj-code1/NLP-Projects/blob/main/P5_Twitter_Sentiment_Analysis.ipynb\" target=\"_parent\"><img src=\"https://colab.research.google.com/assets/colab-badge.svg\" alt=\"Open In Colab\"/></a>"
      ]
    },
    {
      "cell_type": "markdown",
      "metadata": {
        "id": "ii4FKm3u0qPD"
      },
      "source": [
        "# Twitter Sentiment Analysis"
      ]
    },
    {
      "cell_type": "markdown",
      "metadata": {
        "id": "lUlNIKrN2B6B"
      },
      "source": [
        "API key : N38EPkd4X0n5nw48q8oaYXi3w\n",
        "\n",
        "API Secret Key : wmPyG1agINKEy0ZDo44PLQGmefCmXDbmZB9a5Lu8ZLtXJ7N0GW\n",
        "\n",
        "Bearer Token : AAAAAAAAAAAAAAAAAAAAAFUNSQEAAAAAVrvwWFVmLzWVxLQIbtonq97THsA%3DofCjw8qL6y72pv1YJAHnBWAt4wRpHgxhu7HpIKxXkfBRJMi8uc\n",
        "\n",
        "Access Token : 1389844882529869824-q4SMcxnCAE9jMzaT2rbSDAWR8ITOzY\n",
        "\n",
        "Access Token Secret : nQCXhQCCHDv2yvQxRRxUY2kB8qlmpDJx9ZNslgKCz2aCD"
      ]
    },
    {
      "cell_type": "code",
      "metadata": {
        "id": "wC50TCI40ck0"
      },
      "source": [
        "from textblob import TextBlob"
      ],
      "execution_count": null,
      "outputs": []
    },
    {
      "cell_type": "code",
      "metadata": {
        "id": "k72liyg62UxY"
      },
      "source": [
        "import tweepy"
      ],
      "execution_count": null,
      "outputs": []
    },
    {
      "cell_type": "code",
      "metadata": {
        "id": "RLtvGIc_2U3i"
      },
      "source": [
        "import matplotlib.pyplot as plt\n"
      ],
      "execution_count": null,
      "outputs": []
    },
    {
      "cell_type": "markdown",
      "metadata": {
        "id": "QChQMofh2rQh"
      },
      "source": [
        "## Connecting with Twitter API"
      ]
    },
    {
      "cell_type": "code",
      "metadata": {
        "id": "W6K4wgaE2U9i"
      },
      "source": [
        "consumer_key =\"N38EPkd4X0n5nw48q8oaYXi3w\"\n",
        "consumer_secret=\"wmPyG1agINKEy0ZDo44PLQGmefCmXDbmZB9a5Lu8ZLtXJ7N0GW\"\n",
        "access_token =\"1389844882529869824-q4SMcxnCAE9jMzaT2rbSDAWR8ITOzY\"\n",
        "access_token_secret= \"nQCXhQCCHDv2yvQxRRxUY2kB8qlmpDJx9ZNslgKCz2aCD\""
      ],
      "execution_count": null,
      "outputs": []
    },
    {
      "cell_type": "code",
      "metadata": {
        "id": "l-LbxLx03Z_V"
      },
      "source": [
        "auth =tweepy.OAuthHandler(consumer_key, consumer_secret)\n",
        "auth.set_access_token(access_token, access_token_secret)\n",
        "\n",
        "api= tweepy.API(auth,wait_on_rate_limit=True)"
      ],
      "execution_count": null,
      "outputs": []
    },
    {
      "cell_type": "code",
      "metadata": {
        "id": "f8gdeWbJ3aCf"
      },
      "source": [
        "search_term = \"Money Heist\"\n",
        "no_of_tweets= 1000"
      ],
      "execution_count": null,
      "outputs": []
    },
    {
      "cell_type": "code",
      "metadata": {
        "id": "LxW-gosZ3aF2"
      },
      "source": [
        "tweets =tweepy.Cursor(api.search, q=search_term).items(no_of_tweets)\n"
      ],
      "execution_count": null,
      "outputs": []
    },
    {
      "cell_type": "markdown",
      "metadata": {
        "id": "wBk3pKLO4ZsL"
      },
      "source": [
        "## Understanding the working of TextBlob"
      ]
    },
    {
      "cell_type": "code",
      "metadata": {
        "id": "3_fpCQYi3aIf"
      },
      "source": [
        "a=\"I am a good person\"\n",
        "b=\"i am a bad person\"\n",
        "c= \"i am a person\""
      ],
      "execution_count": null,
      "outputs": []
    },
    {
      "cell_type": "code",
      "metadata": {
        "colab": {
          "base_uri": "https://localhost:8080/"
        },
        "id": "oTBldLnk4hkb",
        "outputId": "0885872b-8cdd-4064-9f3d-50c0993cf3e4"
      },
      "source": [
        "TextBlob(a).sentiment"
      ],
      "execution_count": null,
      "outputs": [
        {
          "output_type": "execute_result",
          "data": {
            "text/plain": [
              "Sentiment(polarity=0.7, subjectivity=0.6000000000000001)"
            ]
          },
          "metadata": {
            "tags": []
          },
          "execution_count": 10
        }
      ]
    },
    {
      "cell_type": "code",
      "metadata": {
        "colab": {
          "base_uri": "https://localhost:8080/"
        },
        "id": "OyVKS-FD4hnP",
        "outputId": "f238b2b1-d83d-496d-cbf1-465fccfa609c"
      },
      "source": [
        "TextBlob(b).sentiment"
      ],
      "execution_count": null,
      "outputs": [
        {
          "output_type": "execute_result",
          "data": {
            "text/plain": [
              "Sentiment(polarity=-0.6999999999999998, subjectivity=0.6666666666666666)"
            ]
          },
          "metadata": {
            "tags": []
          },
          "execution_count": 11
        }
      ]
    },
    {
      "cell_type": "code",
      "metadata": {
        "colab": {
          "base_uri": "https://localhost:8080/"
        },
        "id": "tdZV6TYb4hqT",
        "outputId": "603cf53f-a37c-487e-c730-aced6a87612e"
      },
      "source": [
        "TextBlob(c).sentiment"
      ],
      "execution_count": null,
      "outputs": [
        {
          "output_type": "execute_result",
          "data": {
            "text/plain": [
              "Sentiment(polarity=0.0, subjectivity=0.0)"
            ]
          },
          "metadata": {
            "tags": []
          },
          "execution_count": 12
        }
      ]
    },
    {
      "cell_type": "code",
      "metadata": {
        "id": "w2AUxjY743LE"
      },
      "source": [
        ""
      ],
      "execution_count": null,
      "outputs": []
    },
    {
      "cell_type": "markdown",
      "metadata": {
        "id": "IbiwM4nv44_J"
      },
      "source": [
        "## Iterate the data"
      ]
    },
    {
      "cell_type": "code",
      "metadata": {
        "id": "KoQWlhay43OH"
      },
      "source": [
        "positive =0\n",
        "negative =0\n",
        "neutral = 0\n",
        "polarity =0"
      ],
      "execution_count": null,
      "outputs": []
    },
    {
      "cell_type": "code",
      "metadata": {
        "id": "Q4Ff9_n449V_"
      },
      "source": [
        "for tweet in tweets :\n",
        "  analysis =TextBlob(tweet.text)\n",
        "  polarity += analysis.sentiment.polarity\n",
        "  if (analysis.sentiment.polarity==0):\n",
        "    neutral+=1\n",
        "  elif (analysis.sentiment.polarity<0.00):\n",
        "    negative+=1\n",
        "  elif (analysis.sentiment.polarity>0.00):\n",
        "    positive+=1\n",
        "    "
      ],
      "execution_count": null,
      "outputs": []
    },
    {
      "cell_type": "code",
      "metadata": {
        "colab": {
          "base_uri": "https://localhost:8080/"
        },
        "id": "a1Do_d0D49ZE",
        "outputId": "c8a62272-f9a7-43ca-ab81-29562a2ea9fa"
      },
      "source": [
        "print(positive, negative, neutral)"
      ],
      "execution_count": null,
      "outputs": [
        {
          "output_type": "stream",
          "text": [
            "312 161 1180\n"
          ],
          "name": "stdout"
        }
      ]
    },
    {
      "cell_type": "code",
      "metadata": {
        "colab": {
          "base_uri": "https://localhost:8080/",
          "height": 296
        },
        "id": "4xNzESa349b8",
        "outputId": "5afe5b4c-1bc8-4f34-fe49-d2b711c9ee6d"
      },
      "source": [
        "labels = ['Positive ['+ str(positive)+'%]',\n",
        "          'Neutral ['+ str(neutral)+'%]',\n",
        "          'Negative ['+ str(negative)+'%]' ]\n",
        "      \n",
        "sizes =[positive, neutral, negative]\n",
        "colors= ['green','yellow','red'] \n",
        "patches , texts = plt.pie(sizes, colors =colors, startangle=90)\n",
        "plt.legend(patches, labels,loc=\"best\")\n",
        "plt.title('Reaction of the people on ' + search_term +\n",
        "          ' by analysis '+str(no_of_tweets)+' Tweets is: ')\n",
        "plt.axis('equal')\n",
        "plt.tight_layout()\n",
        "plt.show()"
      ],
      "execution_count": null,
      "outputs": [
        {
          "output_type": "display_data",
          "data": {
            "image/png": "[encoded data removed]",
            "text/plain": [
              "<Figure size 432x288 with 1 Axes>"
            ]
          },
          "metadata": {
            "tags": []
          }
        }
      ]
    },
    {
      "cell_type": "markdown",
      "metadata": {
        "id": "2U6rChqJ0pRl"
      },
      "source": [
        ""
      ]
    }
  ]
}